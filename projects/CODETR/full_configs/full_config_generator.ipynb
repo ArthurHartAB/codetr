{
 "cells": [
  {
   "cell_type": "code",
   "execution_count": 6,
   "metadata": {},
   "outputs": [],
   "source": [
    "from mmengine.config import Config\n",
    "import os\n"
   ]
  },
  {
   "cell_type": "code",
   "execution_count": null,
   "metadata": {},
   "outputs": [],
   "source": [
    "config_name = \"co_dino_5scale_swin_l_16xb1_16e_o365tococo_ab_fine.py\"\n",
    "config_path = os.path.join(\"../configs/codino\", config_name)\n",
    "output_path = os.path.join(\"./\", config_name)"
   ]
  },
  {
   "cell_type": "code",
   "execution_count": 7,
   "metadata": {},
   "outputs": [
    {
     "data": {
      "text/plain": [
       "Config (path: ../configs/codino/co_dino_5scale_swin_l_16xb1_16e_o365tococo_ab_fine.py): {'default_scope': 'mmdet', 'default_hooks': {'timer': {'type': 'IterTimerHook', '_scope_': 'mmdet'}, 'logger': {'type': 'LoggerHook', 'interval': 10, '_scope_': 'mmdet'}, 'param_scheduler': {'type': 'ParamSchedulerHook', '_scope_': 'mmdet'}, 'checkpoint': {'type': 'CheckpointHook', 'interval': 1, 'by_epoch': True, '_scope_': 'mmdet', 'max_keep_ckpts': 3}, 'sampler_seed': {'type': 'DistSamplerSeedHook', '_scope_': 'mmdet'}, 'visualization': {'type': 'DetVisualizationHook', '_scope_': 'mmdet'}}, 'env_cfg': {'cudnn_benchmark': False, 'mp_cfg': {'mp_start_method': 'fork', 'opencv_num_threads': 0}, 'dist_cfg': {'backend': 'nccl'}}, 'vis_backends': [{'type': 'LocalVisBackend'}, {'type': 'TensorboardVisBackend'}], 'visualizer': {'type': 'DetLocalVisualizer', 'vis_backends': [{'type': 'LocalVisBackend'}, {'type': 'TensorboardVisBackend'}], 'name': 'visualizer', '_scope_': 'mmdet'}, 'log_processor': {'type': 'LogProcessor', 'window_size': 50, 'by_epoch': True, '_scope_': 'mmdet'}, 'log_level': 'INFO', 'load_from': 'https://download.openmmlab.com/mmdetection/v3.0/codetr/co_dino_5scale_swin_large_16e_o365tococo-614254c9.pth', 'resume': False, 'dataset_type': 'CocoDataset', 'data_root': 'data/coco/', 'image_size': (1024, 1024), 'backend_args': None, 'train_pipeline': [{'type': 'LoadImageFromFile'}, {'type': 'LoadAnnotations', 'with_bbox': True}, {'type': 'RandomFlip', 'prob': 0.5}, {'type': 'Resize', 'scale': (3840, 1920)}, {'type': 'RandomChoice', 'transforms': [[{'type': 'Albu', 'transforms': [{'type': 'CenterCrop', 'height': 300, 'width': 3840, 'always_apply': True}], 'bbox_params': {'type': 'BboxParams', 'format': 'pascal_voc', 'label_fields': ['gt_bboxes_labels', 'gt_ignore_flags'], 'min_visibility': 0.0, 'filter_lost_elements': True}, 'keymap': {'img': 'image', 'gt_masks': 'masks', 'gt_bboxes': 'bboxes'}, 'skip_img_without_anno': True}], [{'type': 'RandomChoiceResize', 'scales': [(480, 2048), (512, 2048), (544, 2048), (576, 2048), (608, 2048), (640, 2048), (672, 2048), (704, 2048), (736, 2048), (768, 2048)], 'keep_ratio': True}], [{'type': 'RandomChoiceResize', 'scales': [(400, 4200), (500, 4200), (600, 4200)], 'keep_ratio': True}, {'type': 'RandomCrop', 'crop_type': 'absolute_range', 'crop_size': (384, 600), 'allow_negative_crop': True}, {'type': 'RandomChoiceResize', 'scales': [(480, 2048), (512, 2048), (544, 2048), (576, 2048), (608, 2048), (640, 2048), (672, 2048), (704, 2048), (736, 2048), (768, 2048)], 'keep_ratio': True}]]}, {'type': 'PackDetInputs'}], 'test_pipeline': [{'type': 'LoadImageFromFile'}, {'type': 'Resize', 'scale': (832, 3840), 'keep_ratio': True}, {'type': 'LoadAnnotations', 'with_bbox': True}, {'type': 'PackDetInputs', 'meta_keys': ('img_id', 'img_path', 'ori_shape', 'img_shape', 'scale_factor')}], 'train_dataloader': {'batch_size': 1, 'num_workers': 2, 'persistent_workers': True, 'sampler': {'type': 'DefaultSampler', '_scope_': 'mmdet', 'shuffle': True}, 'dataset': {'type': 'CocoDataset', 'ann_file': '/media/DATADISK/coco_datasets/ab_train/coco_labels_fine.json', 'data_prefix': {'img': '/'}, 'filter_cfg': {'filter_empty_gt': False, 'min_size': 32}, 'pipeline': [{'type': 'LoadImageFromFile'}, {'type': 'LoadAnnotations', 'with_bbox': True}, {'type': 'RandomFlip', 'prob': 0.5}, {'type': 'Resize', 'scale': (3840, 1920)}, {'type': 'RandomChoice', 'transforms': [[{'type': 'Albu', 'transforms': [{'type': 'CenterCrop', 'height': 300, 'width': 3840, 'always_apply': True}], 'bbox_params': {'type': 'BboxParams', 'format': 'pascal_voc', 'label_fields': ['gt_bboxes_labels', 'gt_ignore_flags'], 'min_visibility': 0.0, 'filter_lost_elements': True}, 'keymap': {'img': 'image', 'gt_masks': 'masks', 'gt_bboxes': 'bboxes'}, 'skip_img_without_anno': True}], [{'type': 'RandomChoiceResize', 'scales': [(480, 2048), (512, 2048), (544, 2048), (576, 2048), (608, 2048), (640, 2048), (672, 2048), (704, 2048), (736, 2048), (768, 2048)], 'keep_ratio': True}], [{'type': 'RandomChoiceResize', 'scales': [(400, 4200), (500, 4200), (600, 4200)], 'keep_ratio': True}, {'type': 'RandomCrop', 'crop_type': 'absolute_range', 'crop_size': (384, 600), 'allow_negative_crop': True}, {'type': 'RandomChoiceResize', 'scales': [(480, 2048), (512, 2048), (544, 2048), (576, 2048), (608, 2048), (640, 2048), (672, 2048), (704, 2048), (736, 2048), (768, 2048)], 'keep_ratio': True}]]}, {'type': 'PackDetInputs'}]}}, 'val_dataloader': {'batch_size': 1, 'num_workers': 2, 'persistent_workers': True, 'drop_last': False, 'sampler': {'type': 'DefaultSampler', 'shuffle': False, '_scope_': 'mmdet'}, 'dataset': {'type': 'CocoDataset', 'ann_file': '/media/DATADISK/coco_datasets/amba_taiwan_train_0208/coco_labels_fine.json', 'data_prefix': {'img': '/'}, 'test_mode': True, 'pipeline': [{'type': 'LoadImageFromFile'}, {'type': 'Resize', 'scale': (832, 3840), 'keep_ratio': True}, {'type': 'LoadAnnotations', 'with_bbox': True}, {'type': 'PackDetInputs', 'meta_keys': ('img_id', 'img_path', 'ori_shape', 'img_shape', 'scale_factor')}]}}, 'test_dataloader': {'batch_size': 1, 'num_workers': 2, 'persistent_workers': True, 'drop_last': False, 'sampler': {'type': 'DefaultSampler', 'shuffle': False, '_scope_': 'mmdet'}, 'dataset': {'type': 'CocoDataset', 'ann_file': '/media/DATADISK/coco_datasets/amba_taiwan_train_0208/coco_labels_fine.json', 'data_prefix': {'img': '/'}, 'test_mode': True, 'pipeline': [{'type': 'LoadImageFromFile'}, {'type': 'Resize', 'scale': (832, 3840), 'keep_ratio': True}, {'type': 'LoadAnnotations', 'with_bbox': True}, {'type': 'PackDetInputs', 'meta_keys': ('img_id', 'img_path', 'ori_shape', 'img_shape', 'scale_factor')}]}}, 'val_evaluator': {'type': 'CocoMetric', 'ann_file': '/media/DATADISK/coco_datasets/amba_taiwan_train_0208/coco_labels_fine.json', 'metric': 'bbox', 'format_only': False, 'backend_args': None, '_scope_': 'mmdet'}, 'test_evaluator': {'type': 'CocoMetric', 'ann_file': '/media/DATADISK/coco_datasets/amba_taiwan_train_0208/coco_labels_fine.json', 'metric': 'bbox', 'format_only': False, 'backend_args': None, '_scope_': 'mmdet'}, 'max_iters': 270000, 'train_cfg': {'type': 'EpochBasedTrainLoop', 'max_epochs': 16, 'val_interval': 1}, 'val_cfg': {'type': 'ValLoop', '_scope_': 'mmdet'}, 'test_cfg': {'type': 'TestLoop', '_scope_': 'mmdet'}, 'optim_wrapper': {'type': 'OptimWrapper', 'optimizer': {'type': 'AdamW', 'lr': 0.0001, 'weight_decay': 0.0001}, 'clip_grad': {'max_norm': 0.1, 'norm_type': 2}, 'paramwise_cfg': {'custom_keys': {'backbone': {'lr_mult': 0.1}}}}, 'param_scheduler': [{'type': 'MultiStepLR', 'begin': 0, 'end': 16, 'by_epoch': True, 'milestones': [8], 'gamma': 0.1}], 'auto_scale_lr': {'base_batch_size': 16}, 'load_pipeline': [{'type': 'LoadImageFromFile'}, {'type': 'LoadAnnotations', 'with_bbox': True, 'with_mask': True}, {'type': 'RandomResize', 'scale': (1024, 1024), 'ratio_range': (0.1, 2.0), 'keep_ratio': True}, {'type': 'RandomCrop', 'crop_type': 'absolute_range', 'crop_size': (1024, 1024), 'recompute_bbox': True, 'allow_negative_crop': True}, {'type': 'FilterAnnotations', 'min_gt_bbox_wh': (0.01, 0.01)}, {'type': 'RandomFlip', 'prob': 0.5}, {'type': 'Pad', 'size': (1024, 1024), 'pad_val': {'img': (114, 114, 114)}}], 'custom_imports': {'imports': ['projects.CODETR.codetr'], 'allow_failed_imports': False}, 'num_dec_layer': 6, 'loss_lambda': 2.0, 'num_classes': 6, 'batch_augments': [{'type': 'BatchFixedSizePad', 'size': (1024, 1024), 'pad_mask': True}], 'model': {'type': 'CoDETR', 'use_lsj': False, 'eval_module': 'detr', 'data_preprocessor': {'type': 'DetDataPreprocessor', 'mean': [123.675, 116.28, 103.53], 'std': [58.395, 57.12, 57.375], 'bgr_to_rgb': True, 'pad_mask': False, 'batch_augments': None}, 'backbone': {'type': 'SwinTransformer', 'pretrain_img_size': 384, 'embed_dims': 192, 'depths': [2, 2, 18, 2], 'num_heads': [6, 12, 24, 48], 'window_size': 12, 'mlp_ratio': 4, 'qkv_bias': True, 'qk_scale': None, 'drop_rate': 0.0, 'attn_drop_rate': 0.0, 'drop_path_rate': 0.3, 'patch_norm': True, 'out_indices': (0, 1, 2, 3), 'with_cp': True, 'convert_weights': True, 'init_cfg': {'type': 'Pretrained', 'checkpoint': 'https://github.com/SwinTransformer/storage/releases/download/v1.0.0/swin_large_patch4_window12_384_22k.pth'}}, 'neck': {'type': 'ChannelMapper', 'in_channels': [192, 384, 768, 1536], 'kernel_size': 1, 'out_channels': 256, 'act_cfg': None, 'norm_cfg': {'type': 'GN', 'num_groups': 32}, 'num_outs': 5}, 'query_head': {'type': 'CoDINOHead', 'num_query': 900, 'num_classes': 6, 'in_channels': 2048, 'as_two_stage': True, 'dn_cfg': {'label_noise_scale': 0.5, 'box_noise_scale': 0.4, 'group_cfg': {'dynamic': True, 'num_groups': None, 'num_dn_queries': 500}}, 'transformer': {'type': 'CoDinoTransformer', 'with_coord_feat': False, 'num_co_heads': 2, 'num_feature_levels': 5, 'encoder': {'type': 'DetrTransformerEncoder', 'num_layers': 6, 'with_cp': 6, 'transformerlayers': {'type': 'BaseTransformerLayer', 'attn_cfgs': {'type': 'MultiScaleDeformableAttention', 'embed_dims': 256, 'num_levels': 5, 'dropout': 0.0}, 'feedforward_channels': 2048, 'ffn_dropout': 0.0, 'operation_order': ('self_attn', 'norm', 'ffn', 'norm')}}, 'decoder': {'type': 'DinoTransformerDecoder', 'num_layers': 6, 'return_intermediate': True, 'transformerlayers': {'type': 'DetrTransformerDecoderLayer', 'attn_cfgs': [{'type': 'MultiheadAttention', 'embed_dims': 256, 'num_heads': 8, 'dropout': 0.0}, {'type': 'MultiScaleDeformableAttention', 'embed_dims': 256, 'num_levels': 5, 'dropout': 0.0}], 'feedforward_channels': 2048, 'ffn_dropout': 0.0, 'operation_order': ('self_attn', 'norm', 'cross_attn', 'norm', 'ffn', 'norm')}}}, 'positional_encoding': {'type': 'SinePositionalEncoding', 'num_feats': 128, 'temperature': 20, 'normalize': True}, 'loss_cls': {'type': 'QualityFocalLoss', 'use_sigmoid': True, 'beta': 2.0, 'loss_weight': 1.0}, 'loss_bbox': {'type': 'L1Loss', 'loss_weight': 5.0}, 'loss_iou': {'type': 'GIoULoss', 'loss_weight': 2.0}}, 'rpn_head': {'type': 'RPNHead', 'in_channels': 256, 'feat_channels': 256, 'anchor_generator': {'type': 'AnchorGenerator', 'octave_base_scale': 4, 'scales_per_octave': 3, 'ratios': [0.5, 1.0, 2.0], 'strides': [4, 8, 16, 32, 64, 128]}, 'bbox_coder': {'type': 'DeltaXYWHBBoxCoder', 'target_means': [0.0, 0.0, 0.0, 0.0], 'target_stds': [1.0, 1.0, 1.0, 1.0]}, 'loss_cls': {'type': 'CrossEntropyLoss', 'use_sigmoid': True, 'loss_weight': 12.0}, 'loss_bbox': {'type': 'L1Loss', 'loss_weight': 12.0}}, 'roi_head': [{'type': 'CoStandardRoIHead', 'bbox_roi_extractor': {'type': 'SingleRoIExtractor', 'roi_layer': {'type': 'RoIAlign', 'output_size': 7, 'sampling_ratio': 0}, 'out_channels': 256, 'featmap_strides': [4, 8, 16, 32, 64], 'finest_scale': 56}, 'bbox_head': {'type': 'Shared2FCBBoxHead', 'in_channels': 256, 'fc_out_channels': 1024, 'roi_feat_size': 7, 'num_classes': 6, 'bbox_coder': {'type': 'DeltaXYWHBBoxCoder', 'target_means': [0.0, 0.0, 0.0, 0.0], 'target_stds': [0.1, 0.1, 0.2, 0.2]}, 'reg_class_agnostic': False, 'reg_decoded_bbox': True, 'loss_cls': {'type': 'CrossEntropyLoss', 'use_sigmoid': False, 'loss_weight': 12.0}, 'loss_bbox': {'type': 'GIoULoss', 'loss_weight': 120.0}}}], 'bbox_head': [{'type': 'CoATSSHead', 'num_classes': 6, 'in_channels': 256, 'stacked_convs': 1, 'feat_channels': 256, 'anchor_generator': {'type': 'AnchorGenerator', 'ratios': [1.0], 'octave_base_scale': 8, 'scales_per_octave': 1, 'strides': [4, 8, 16, 32, 64, 128]}, 'bbox_coder': {'type': 'DeltaXYWHBBoxCoder', 'target_means': [0.0, 0.0, 0.0, 0.0], 'target_stds': [0.1, 0.1, 0.2, 0.2]}, 'loss_cls': {'type': 'FocalLoss', 'use_sigmoid': True, 'gamma': 2.0, 'alpha': 0.25, 'loss_weight': 12.0}, 'loss_bbox': {'type': 'GIoULoss', 'loss_weight': 24.0}, 'loss_centerness': {'type': 'CrossEntropyLoss', 'use_sigmoid': True, 'loss_weight': 12.0}}], 'train_cfg': [{'assigner': {'type': 'HungarianAssigner', 'match_costs': [{'type': 'FocalLossCost', 'weight': 2.0}, {'type': 'BBoxL1Cost', 'weight': 5.0, 'box_format': 'xywh'}, {'type': 'IoUCost', 'iou_mode': 'giou', 'weight': 2.0}]}}, {'rpn': {'assigner': {'type': 'MaxIoUAssigner', 'pos_iou_thr': 0.7, 'neg_iou_thr': 0.3, 'min_pos_iou': 0.3, 'match_low_quality': True, 'ignore_iof_thr': -1}, 'sampler': {'type': 'RandomSampler', 'num': 256, 'pos_fraction': 0.5, 'neg_pos_ub': -1, 'add_gt_as_proposals': False}, 'allowed_border': -1, 'pos_weight': -1, 'debug': False}, 'rpn_proposal': {'nms_pre': 4000, 'max_per_img': 1000, 'nms': {'type': 'nms', 'iou_threshold': 0.7}, 'min_bbox_size': 0}, 'rcnn': {'assigner': {'type': 'MaxIoUAssigner', 'pos_iou_thr': 0.5, 'neg_iou_thr': 0.5, 'min_pos_iou': 0.5, 'match_low_quality': False, 'ignore_iof_thr': -1}, 'sampler': {'type': 'RandomSampler', 'num': 512, 'pos_fraction': 0.25, 'neg_pos_ub': -1, 'add_gt_as_proposals': True}, 'pos_weight': -1, 'debug': False}}, {'assigner': {'type': 'ATSSAssigner', 'topk': 9}, 'allowed_border': -1, 'pos_weight': -1, 'debug': False}], 'test_cfg': [{'max_per_img': 300}, {'rpn': {'nms_pre': 1000, 'max_per_img': 1000, 'nms': {'type': 'nms', 'iou_threshold': 0.7}, 'min_bbox_size': 0}, 'rcnn': {'score_thr': 0.0, 'nms': {'type': 'nms', 'iou_threshold': 0.5}, 'max_per_img': 100}}, {'nms_pre': 1000, 'min_bbox_size': 0, 'score_thr': 0.0, 'nms': {'type': 'nms', 'iou_threshold': 0.6}, 'max_per_img': 100}]}, 'max_epochs': 16, 'pretrained': 'https://github.com/SwinTransformer/storage/releases/download/v1.0.0/swin_large_patch4_window12_384_22k.pth'}"
      ]
     },
     "execution_count": 7,
     "metadata": {},
     "output_type": "execute_result"
    }
   ],
   "source": [
    "cfg = Config.fromfile(config_path)\n",
    "cfg"
   ]
  },
  {
   "cell_type": "code",
   "execution_count": 8,
   "metadata": {},
   "outputs": [],
   "source": [
    "cfg.dump(output_path)"
   ]
  },
  {
   "cell_type": "code",
   "execution_count": null,
   "metadata": {},
   "outputs": [],
   "source": []
  }
 ],
 "metadata": {
  "kernelspec": {
   "display_name": "codetr",
   "language": "python",
   "name": "python3"
  },
  "language_info": {
   "codemirror_mode": {
    "name": "ipython",
    "version": 3
   },
   "file_extension": ".py",
   "mimetype": "text/x-python",
   "name": "python",
   "nbconvert_exporter": "python",
   "pygments_lexer": "ipython3",
   "version": "3.8.0"
  }
 },
 "nbformat": 4,
 "nbformat_minor": 2
}
