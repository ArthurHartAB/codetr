{
 "cells": [
  {
   "cell_type": "code",
   "execution_count": 1,
   "metadata": {},
   "outputs": [
    {
     "name": "stdout",
     "output_type": "stream",
     "text": [
      "Split 'test' already downloaded\n",
      "Loading existing dataset 'mnist-test'. To reload from disk, either delete the existing dataset or provide a custom `dataset_name` to use\n",
      "Generating visualization...\n"
     ]
    },
    {
     "name": "stderr",
     "output_type": "stream",
     "text": [
      "/home/ubuntu/miniconda3/envs/codetr/lib/python3.8/site-packages/umap/umap_.py:1943: UserWarning: n_jobs value -1 overridden to 1 by setting random_state. Use no seed for parallelism.\n",
      "  warn(f\"n_jobs value {self.n_jobs} overridden to 1 by setting random_state. Use no seed for parallelism.\")\n",
      "OMP: Info #276: omp_set_nested routine deprecated, please use omp_set_max_active_levels instead.\n"
     ]
    },
    {
     "name": "stdout",
     "output_type": "stream",
     "text": [
      "UMAP(random_state=51, verbose=True)\n",
      "Wed Mar  6 14:13:50 2024 Construct fuzzy simplicial set\n",
      "Wed Mar  6 14:13:50 2024 Finding Nearest Neighbors\n",
      "Wed Mar  6 14:13:50 2024 Building RP forest with 10 trees\n",
      "Wed Mar  6 14:13:54 2024 NN descent for 13 iterations\n",
      "\t 1  /  13\n",
      "\t 2  /  13\n",
      "\t 3  /  13\n",
      "\t 4  /  13\n",
      "\tStopping threshold met -- exiting after 4 iterations\n",
      "Wed Mar  6 14:14:05 2024 Finished Nearest Neighbor Search\n",
      "Wed Mar  6 14:14:08 2024 Construct embedding\n"
     ]
    },
    {
     "data": {
      "application/vnd.jupyter.widget-view+json": {
       "model_id": "fd84555248bb4ed5b51389144162fe49",
       "version_major": 2,
       "version_minor": 0
      },
      "text/plain": [
       "Epochs completed:   0%|            0/500 [00:00]"
      ]
     },
     "metadata": {},
     "output_type": "display_data"
    },
    {
     "name": "stdout",
     "output_type": "stream",
     "text": [
      "\tcompleted  0  /  500 epochs\n",
      "\tcompleted  50  /  500 epochs\n",
      "\tcompleted  100  /  500 epochs\n",
      "\tcompleted  150  /  500 epochs\n",
      "\tcompleted  200  /  500 epochs\n",
      "\tcompleted  250  /  500 epochs\n",
      "\tcompleted  300  /  500 epochs\n",
      "\tcompleted  350  /  500 epochs\n",
      "\tcompleted  400  /  500 epochs\n",
      "\tcompleted  450  /  500 epochs\n",
      "Wed Mar  6 14:14:19 2024 Finished embedding\n"
     ]
    }
   ],
   "source": [
    "import cv2\n",
    "import numpy as np\n",
    "\n",
    "import fiftyone as fo\n",
    "import fiftyone.brain as fob\n",
    "import fiftyone.zoo as foz\n",
    "\n",
    "dataset = foz.load_zoo_dataset(\"mnist\", split=\"test\")\n",
    "\n",
    "# Construct a `num_samples x num_pixels` array of images\n",
    "images = np.array([\n",
    "    cv2.imread(f, cv2.IMREAD_UNCHANGED).ravel()\n",
    "    for f in dataset.values(\"filepath\")\n",
    "])\n",
    "\n",
    "# Compute 2D embeddings\n",
    "results = fob.compute_visualization(dataset, embeddings=images, seed=51)\n"
   ]
  },
  {
   "cell_type": "code",
   "execution_count": 2,
   "metadata": {},
   "outputs": [
    {
     "data": {},
     "metadata": {},
     "output_type": "display_data"
    },
    {
     "data": {
      "text/plain": []
     },
     "metadata": {},
     "output_type": "display_data"
    },
    {
     "data": {
      "application/vnd.jupyter.widget-view+json": {
       "model_id": "8c69aaa9bb0d4e668c0e026e91acb6f1",
       "version_major": 2,
       "version_minor": 0
      },
      "text/plain": [
       "FigureWidget({\n",
       "    'data': [{'customdata': array(['65e877dab2102edcdda6b70b', '65e877dab2102edcdda6b71a',\n",
       "                                   '65e877dab2102edcdda6b71d', ..., '65e877deb2102edcdda704fd',\n",
       "                                   '65e877deb2102edcdda70510', '65e877deb2102edcdda7051a'], dtype=object),\n",
       "              'hovertemplate': ('<b>label: %{text}</b><br>x, y ' ... ': %{customdata}<extra></extra>'),\n",
       "              'line': {'color': '#3366CC'},\n",
       "              'mode': 'markers',\n",
       "              'name': '0 - zero',\n",
       "              'showlegend': True,\n",
       "              'text': array(['0 - zero', '0 - zero', '0 - zero', ..., '0 - zero', '0 - zero',\n",
       "                             '0 - zero'], dtype='<U8'),\n",
       "              'type': 'scattergl',\n",
       "              'uid': 'ecbf615b-e0ec-495c-8d40-9538e232d62f',\n",
       "              'x': array([-0.0033484 , -0.7910399 , -0.14464189, ..., -0.9686604 , -0.9903214 ,\n",
       "                          -1.7887576 ], dtype=float32),\n",
       "              'y': array([4.8313785, 5.473082 , 5.3544893, ..., 3.9646935, 5.077723 , 4.484248 ],\n",
       "                         dtype=float32)},\n",
       "             {'customdata': array(['65e877dab2102edcdda6b706', '65e877dab2102edcdda6b70d',\n",
       "                                   '65e877dab2102edcdda6b71e', ..., '65e877deb2102edcdda7050b',\n",
       "                                   '65e877deb2102edcdda70511', '65e877deb2102edcdda7051b'], dtype=object),\n",
       "              'hovertemplate': ('<b>label: %{text}</b><br>x, y ' ... ': %{customdata}<extra></extra>'),\n",
       "              'line': {'color': '#DC3912'},\n",
       "              'mode': 'markers',\n",
       "              'name': '1 - one',\n",
       "              'showlegend': True,\n",
       "              'text': array(['1 - one', '1 - one', '1 - one', ..., '1 - one', '1 - one', '1 - one'],\n",
       "                            dtype='<U7'),\n",
       "              'type': 'scattergl',\n",
       "              'uid': 'ab8b26ff-ba0c-40ee-9249-f1e9d4e1e00c',\n",
       "              'x': array([13.19312 , 13.116816, 15.342871, ..., 10.834647, 14.300097, 13.224504],\n",
       "                         dtype=float32),\n",
       "              'y': array([2.0735435, 2.1275225, 1.6342293, ..., 1.9122024, 1.9263294, 1.1080216],\n",
       "                         dtype=float32)},\n",
       "             {'customdata': array(['65e877dab2102edcdda6b705', '65e877dab2102edcdda6b763',\n",
       "                                   '65e877dab2102edcdda6b766', ..., '65e877deb2102edcdda7050d',\n",
       "                                   '65e877deb2102edcdda70512', '65e877deb2102edcdda7051c'], dtype=object),\n",
       "              'hovertemplate': ('<b>label: %{text}</b><br>x, y ' ... ': %{customdata}<extra></extra>'),\n",
       "              'line': {'color': '#FF9900'},\n",
       "              'mode': 'markers',\n",
       "              'name': '2 - two',\n",
       "              'showlegend': True,\n",
       "              'text': array(['2 - two', '2 - two', '2 - two', ..., '2 - two', '2 - two', '2 - two'],\n",
       "                            dtype='<U7'),\n",
       "              'type': 'scattergl',\n",
       "              'uid': '55d727e7-cdfe-4ee9-b849-eee3540c24d0',\n",
       "              'x': array([8.914568, 8.377173, 8.924146, ..., 8.1447  , 8.492103, 8.632737],\n",
       "                         dtype=float32),\n",
       "              'y': array([ 1.033057  , -0.7619855 ,  0.7663994 , ..., -0.99249226,  0.84712785,\n",
       "                           0.46428266], dtype=float32)},\n",
       "             {'customdata': array(['65e877dab2102edcdda6b732', '65e877dab2102edcdda6b73e',\n",
       "                                   '65e877dab2102edcdda6b760', ..., '65e877deb2102edcdda70508',\n",
       "                                   '65e877deb2102edcdda70513', '65e877deb2102edcdda7051d'], dtype=object),\n",
       "              'hovertemplate': ('<b>label: %{text}</b><br>x, y ' ... ': %{customdata}<extra></extra>'),\n",
       "              'line': {'color': '#109618'},\n",
       "              'mode': 'markers',\n",
       "              'name': '3 - three',\n",
       "              'showlegend': True,\n",
       "              'text': array(['3 - three', '3 - three', '3 - three', ..., '3 - three', '3 - three',\n",
       "                             '3 - three'], dtype='<U9'),\n",
       "              'type': 'scattergl',\n",
       "              'uid': '6a1e5d26-4dd2-40ef-b25e-569b01e69f88',\n",
       "              'x': array([4.0856905, 4.72536  , 4.6862674, ..., 5.0744405, 5.277341 , 3.9415395],\n",
       "                         dtype=float32),\n",
       "              'y': array([4.1901016, 3.4289417, 3.969566 , ..., 1.8986604, 2.8099525, 3.2835553],\n",
       "                         dtype=float32)},\n",
       "             {'customdata': array(['65e877dab2102edcdda6b70c', '65e877dab2102edcdda6b70e',\n",
       "                                   '65e877dab2102edcdda6b733', ..., '65e877deb2102edcdda7050a',\n",
       "                                   '65e877deb2102edcdda70514', '65e877deb2102edcdda7051e'], dtype=object),\n",
       "              'hovertemplate': ('<b>label: %{text}</b><br>x, y ' ... ': %{customdata}<extra></extra>'),\n",
       "              'line': {'color': '#990099'},\n",
       "              'mode': 'markers',\n",
       "              'name': '4 - four',\n",
       "              'showlegend': True,\n",
       "              'text': array(['4 - four', '4 - four', '4 - four', ..., '4 - four', '4 - four',\n",
       "                             '4 - four'], dtype='<U8'),\n",
       "              'type': 'scattergl',\n",
       "              'uid': 'cde4a86c-3fed-487b-925e-04173df9353c',\n",
       "              'x': array([12.028518 , 11.6957855, 11.974178 , ..., 10.524902 , 10.95943  ,\n",
       "                          10.47646  ], dtype=float32),\n",
       "              'y': array([10.10548  ,  9.113526 ,  9.179174 , ...,  8.15429  ,  8.974607 ,\n",
       "                           8.0899105], dtype=float32)},\n",
       "             {'customdata': array(['65e877dab2102edcdda6b718', '65e877dab2102edcdda6b72f',\n",
       "                                   '65e877dab2102edcdda6b737', ..., '65e877deb2102edcdda7050f',\n",
       "                                   '65e877deb2102edcdda70515', '65e877deb2102edcdda7051f'], dtype=object),\n",
       "              'hovertemplate': ('<b>label: %{text}</b><br>x, y ' ... ': %{customdata}<extra></extra>'),\n",
       "              'line': {'color': '#0099C6'},\n",
       "              'mode': 'markers',\n",
       "              'name': '5 - five',\n",
       "              'showlegend': True,\n",
       "              'text': array(['5 - five', '5 - five', '5 - five', ..., '5 - five', '5 - five',\n",
       "                             '5 - five'], dtype='<U8'),\n",
       "              'type': 'scattergl',\n",
       "              'uid': '023a9b1f-371b-4f18-8080-01871335e320',\n",
       "              'x': array([11.36181  ,  3.8636644,  5.0117126, ...,  3.8946173,  5.3797164,\n",
       "                           5.689717 ], dtype=float32),\n",
       "              'y': array([9.909235 , 4.614908 , 6.34053  , ..., 6.175017 , 7.153167 , 7.7055216],\n",
       "                         dtype=float32)},\n",
       "             {'customdata': array(['65e877dab2102edcdda6b71b', '65e877dab2102edcdda6b735',\n",
       "                                   '65e877dab2102edcdda6b736', ..., '65e877deb2102edcdda7050e',\n",
       "                                   '65e877deb2102edcdda70516', '65e877deb2102edcdda70520'], dtype=object),\n",
       "              'hovertemplate': ('<b>label: %{text}</b><br>x, y ' ... ': %{customdata}<extra></extra>'),\n",
       "              'line': {'color': '#DD4477'},\n",
       "              'mode': 'markers',\n",
       "              'name': '6 - six',\n",
       "              'showlegend': True,\n",
       "              'text': array(['6 - six', '6 - six', '6 - six', ..., '6 - six', '6 - six', '6 - six'],\n",
       "                            dtype='<U7'),\n",
       "              'type': 'scattergl',\n",
       "              'uid': '58293c2c-52f8-4917-a024-6eff667d71d2',\n",
       "              'x': array([0.83367264, 2.256918  , 1.1313324 , ..., 2.5440252 , 2.1275978 ,\n",
       "                          1.6567484 ], dtype=float32),\n",
       "              'y': array([10.813058, 10.280276, 10.959593, ...,  8.306613,  8.664182,  9.125126],\n",
       "                         dtype=float32)},\n",
       "             {'customdata': array(['65e877dab2102edcdda6b702', '65e877dab2102edcdda6b731',\n",
       "                                   '65e877dab2102edcdda6b73a', ..., '65e877deb2102edcdda70501',\n",
       "                                   '65e877deb2102edcdda7050c', '65e877deb2102edcdda70517'], dtype=object),\n",
       "              'hovertemplate': ('<b>label: %{text}</b><br>x, y ' ... ': %{customdata}<extra></extra>'),\n",
       "              'line': {'color': '#66AA00'},\n",
       "              'mode': 'markers',\n",
       "              'name': '7 - seven',\n",
       "              'showlegend': True,\n",
       "              'text': array(['7 - seven', '7 - seven', '7 - seven', ..., '7 - seven', '7 - seven',\n",
       "                             '7 - seven'], dtype='<U9'),\n",
       "              'type': 'scattergl',\n",
       "              'uid': '1fcc1194-9217-4f83-baee-c82644307f38',\n",
       "              'x': array([12.816038, 13.107072, 14.328117, ..., 12.113542, 12.315424, 13.180548],\n",
       "                         dtype=float32),\n",
       "              'y': array([5.3086085, 5.644415 , 6.7068024, ..., 4.572382 , 5.4257617, 4.875944 ],\n",
       "                         dtype=float32)},\n",
       "             {'customdata': array(['65e877dab2102edcdda6b77d', '65e877dab2102edcdda6b7d4',\n",
       "                                   '65e877dab2102edcdda6b7ee', ..., '65e877deb2102edcdda704f8',\n",
       "                                   '65e877deb2102edcdda70500', '65e877deb2102edcdda70518'], dtype=object),\n",
       "              'hovertemplate': ('<b>label: %{text}</b><br>x, y ' ... ': %{customdata}<extra></extra>'),\n",
       "              'line': {'color': '#B82E2E'},\n",
       "              'mode': 'markers',\n",
       "              'name': '8 - eight',\n",
       "              'showlegend': True,\n",
       "              'text': array(['8 - eight', '8 - eight', '8 - eight', ..., '8 - eight', '8 - eight',\n",
       "                             '8 - eight'], dtype='<U9'),\n",
       "              'type': 'scattergl',\n",
       "              'uid': '3f3bc392-6cb6-4c9c-aa81-17a30bca276e',\n",
       "              'x': array([8.415273 , 6.493844 , 7.61902  , ..., 7.2855926, 8.189123 , 6.728833 ],\n",
       "                         dtype=float32),\n",
       "              'y': array([3.9986463, 4.7733693, 3.616953 , ..., 3.8064249, 3.7342653, 3.9565382],\n",
       "                         dtype=float32)},\n",
       "             {'customdata': array(['65e877dab2102edcdda6b717', '65e877dab2102edcdda6b719',\n",
       "                                   '65e877dab2102edcdda6b71c', ..., '65e877deb2102edcdda704ea',\n",
       "                                   '65e877deb2102edcdda70506', '65e877deb2102edcdda70519'], dtype=object),\n",
       "              'hovertemplate': ('<b>label: %{text}</b><br>x, y ' ... ': %{customdata}<extra></extra>'),\n",
       "              'line': {'color': '#316395'},\n",
       "              'mode': 'markers',\n",
       "              'name': '9 - nine',\n",
       "              'showlegend': True,\n",
       "              'text': array(['9 - nine', '9 - nine', '9 - nine', ..., '9 - nine', '9 - nine',\n",
       "                             '9 - nine'], dtype='<U8'),\n",
       "              'type': 'scattergl',\n",
       "              'uid': '25ec104b-7cb6-4bb6-82f4-e75a0e2bd662',\n",
       "              'x': array([13.8179455, 11.229476 , 11.975377 , ..., 11.81988  , 11.364186 ,\n",
       "                          11.773421 ], dtype=float32),\n",
       "              'y': array([8.774318 , 6.4542794, 7.7057953, ..., 7.271728 , 6.9588313, 7.3659525],\n",
       "                         dtype=float32)}],\n",
       "    'layout': {'height': 720,\n",
       "               'legend': {'itemsizing': 'constant', 'title': {'text': 'label'}},\n",
       "               'margin': {'b': 0, 'l': 0, 'r': 0, 't': 30},\n",
       "               'template': '...'}\n",
       "})"
      ]
     },
     "metadata": {},
     "output_type": "display_data"
    },
    {
     "ename": "NameError",
     "evalue": "name 'session' is not defined",
     "output_type": "error",
     "traceback": [
      "\u001b[0;31m---------------------------------------------------------------------------\u001b[0m",
      "\u001b[0;31mNameError\u001b[0m                                 Traceback (most recent call last)",
      "Cell \u001b[0;32mIn[2], line 4\u001b[0m\n\u001b[1;32m      1\u001b[0m plot \u001b[38;5;241m=\u001b[39m results\u001b[38;5;241m.\u001b[39mvisualize(labels\u001b[38;5;241m=\u001b[39m\u001b[38;5;124m\"\u001b[39m\u001b[38;5;124mground_truth.label\u001b[39m\u001b[38;5;124m\"\u001b[39m)\n\u001b[1;32m      2\u001b[0m plot\u001b[38;5;241m.\u001b[39mshow(height\u001b[38;5;241m=\u001b[39m\u001b[38;5;241m720\u001b[39m)\n\u001b[0;32m----> 4\u001b[0m \u001b[43msession\u001b[49m\u001b[38;5;241m.\u001b[39mplots\u001b[38;5;241m.\u001b[39mattach(plot)\n",
      "\u001b[0;31mNameError\u001b[0m: name 'session' is not defined"
     ]
    }
   ],
   "source": [
    "plot = results.visualize(labels=\"ground_truth.label\")\n",
    "plot.show(height=720)\n",
    "\n"
   ]
  },
  {
   "cell_type": "code",
   "execution_count": 8,
   "metadata": {},
   "outputs": [
    {
     "data": {
      "text/html": [
       "\n",
       "        <iframe\n",
       "            width=\"100%\"\n",
       "            height=\"800\"\n",
       "            src=\"http://localhost:5151/?notebook=True&subscription=fc0541f6-9bd6-44e7-89a7-b57e8c706d86\"\n",
       "            frameborder=\"0\"\n",
       "            allowfullscreen\n",
       "            \n",
       "        ></iframe>\n",
       "        "
      ],
      "text/plain": [
       "<IPython.lib.display.IFrame at 0x7fd49f1ffcd0>"
      ]
     },
     "metadata": {},
     "output_type": "display_data"
    }
   ],
   "source": [
    "session = fo.launch_app(dataset)\n",
    "session.plots.attach(plot)"
   ]
  },
  {
   "cell_type": "code",
   "execution_count": null,
   "metadata": {},
   "outputs": [],
   "source": []
  }
 ],
 "metadata": {
  "kernelspec": {
   "display_name": "codetr",
   "language": "python",
   "name": "python3"
  },
  "language_info": {
   "codemirror_mode": {
    "name": "ipython",
    "version": 3
   },
   "file_extension": ".py",
   "mimetype": "text/x-python",
   "name": "python",
   "nbconvert_exporter": "python",
   "pygments_lexer": "ipython3",
   "version": "3.8.0"
  }
 },
 "nbformat": 4,
 "nbformat_minor": 2
}
