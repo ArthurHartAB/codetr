{
 "cells": [
  {
   "cell_type": "code",
   "execution_count": 1,
   "metadata": {},
   "outputs": [],
   "source": [
    "import numpy as np\n",
    "import pandas as pd\n",
    "from glob import glob\n",
    "import os"
   ]
  },
  {
   "cell_type": "code",
   "execution_count": 2,
   "metadata": {},
   "outputs": [],
   "source": [
    "folder_path = \"/home/b2b/arthur/data/921_hard_images/\""
   ]
  },
  {
   "cell_type": "code",
   "execution_count": 3,
   "metadata": {},
   "outputs": [],
   "source": [
    "images = glob(folder_path + \"images/*.png\")"
   ]
  },
  {
   "cell_type": "code",
   "execution_count": 4,
   "metadata": {},
   "outputs": [
    {
     "data": {
      "text/plain": [
       "array(['/home/b2b/arthur/data/921_hard_images/images/1684257376706149.png',\n",
       "       '/home/b2b/arthur/data/921_hard_images/images/1684251616431673.png',\n",
       "       '/home/b2b/arthur/data/921_hard_images/images/1662980400009322.png',\n",
       "       '/home/b2b/arthur/data/921_hard_images/images/1686840491999847.png',\n",
       "       '/home/b2b/arthur/data/921_hard_images/images/1686585233000292.png',\n",
       "       '/home/b2b/arthur/data/921_hard_images/images/1685995909333208.png',\n",
       "       '/home/b2b/arthur/data/921_hard_images/images/1684255132602908.png',\n",
       "       '/home/b2b/arthur/data/921_hard_images/images/1684258959075690.png',\n",
       "       '/home/b2b/arthur/data/921_hard_images/images/ab_car_berlin_day_029_001273.png',\n",
       "       '/home/b2b/arthur/data/921_hard_images/images/1690794755000136.png',\n",
       "       '/home/b2b/arthur/data/921_hard_images/images/1691508491433297.png',\n",
       "       '/home/b2b/arthur/data/921_hard_images/images/ab_car_berlin_day_031_000771.png',\n",
       "       '/home/b2b/arthur/data/921_hard_images/images/1685737058000146.png',\n",
       "       '/home/b2b/arthur/data/921_hard_images/images/1684255086982820.png',\n",
       "       '/home/b2b/arthur/data/921_hard_images/images/1692356650000103.png',\n",
       "       '/home/b2b/arthur/data/921_hard_images/images/1691508161433421.png',\n",
       "       '/home/b2b/arthur/data/921_hard_images/images/1662988206712186.png',\n",
       "       '/home/b2b/arthur/data/921_hard_images/images/1685737228000237.png',\n",
       "       '/home/b2b/arthur/data/921_hard_images/images/1685737957999810.png',\n",
       "       '/home/b2b/arthur/data/921_hard_images/images/1684251979092865.png',\n",
       "       '/home/b2b/arthur/data/921_hard_images/images/1662980348075343.png',\n",
       "       '/home/b2b/arthur/data/921_hard_images/images/1691506002000000.png',\n",
       "       '/home/b2b/arthur/data/921_hard_images/images/1691508211433499.png',\n",
       "       '/home/b2b/arthur/data/921_hard_images/images/1685999073600227.png',\n",
       "       '/home/b2b/arthur/data/921_hard_images/images/1685739198000164.png',\n",
       "       '/home/b2b/arthur/data/921_hard_images/images/1691426572999684.png',\n",
       "       '/home/b2b/arthur/data/921_hard_images/images/ab_car_munich_urban_day_027_000098.png',\n",
       "       '/home/b2b/arthur/data/921_hard_images/images/1691678606000431.png',\n",
       "       '/home/b2b/arthur/data/921_hard_images/images/1685739318000144.png',\n",
       "       '/home/b2b/arthur/data/921_hard_images/images/1689521652466807.png',\n",
       "       '/home/b2b/arthur/data/921_hard_images/images/1692356160000097.png',\n",
       "       '/home/b2b/arthur/data/921_hard_images/images/1684255705110732.png',\n",
       "       '/home/b2b/arthur/data/921_hard_images/images/ab_car_berlin_day_003_000199.png',\n",
       "       '/home/b2b/arthur/data/921_hard_images/images/1684255413421954.png',\n",
       "       '/home/b2b/arthur/data/921_hard_images/images/1686840781999746.png',\n",
       "       '/home/b2b/arthur/data/921_hard_images/images/1685737248000161.png',\n",
       "       '/home/b2b/arthur/data/921_hard_images/images/1684257400471047.png',\n",
       "       '/home/b2b/arthur/data/921_hard_images/images/1691509801999817.png',\n",
       "       '/home/b2b/arthur/data/921_hard_images/images/1685739518000239.png',\n",
       "       '/home/b2b/arthur/data/921_hard_images/images/1684251941124932.png',\n",
       "       '/home/b2b/arthur/data/921_hard_images/images/1685737037999869.png',\n",
       "       '/home/b2b/arthur/data/921_hard_images/images/1687354122999965.png',\n",
       "       '/home/b2b/arthur/data/921_hard_images/images/ab_car_berlin_day_027_001671.png',\n",
       "       '/home/b2b/arthur/data/921_hard_images/images/1685736827999845.png',\n",
       "       '/home/b2b/arthur/data/921_hard_images/images/1691678896000206.png',\n",
       "       '/home/b2b/arthur/data/921_hard_images/images/1685999367166926.png',\n",
       "       '/home/b2b/arthur/data/921_hard_images/images/1662980064505155.png',\n",
       "       '/home/b2b/arthur/data/921_hard_images/images/1686585523000387.png',\n",
       "       '/home/b2b/arthur/data/921_hard_images/images/1691510892000044.png',\n",
       "       '/home/b2b/arthur/data/921_hard_images/images/ab_car_munich_urban_day_035_001650.png',\n",
       "       '/home/b2b/arthur/data/921_hard_images/images/1662978855656624.png',\n",
       "       '/home/b2b/arthur/data/921_hard_images/images/1686905461000215.png',\n",
       "       '/home/b2b/arthur/data/921_hard_images/images/1689522003733609.png',\n",
       "       '/home/b2b/arthur/data/921_hard_images/images/1691506951433466.png',\n",
       "       '/home/b2b/arthur/data/921_hard_images/images/1685999085066865.png',\n",
       "       '/home/b2b/arthur/data/921_hard_images/images/1685997389333355.png',\n",
       "       '/home/b2b/arthur/data/921_hard_images/images/1692281115166789.png',\n",
       "       '/home/b2b/arthur/data/921_hard_images/images/ab_car_munich_urban_day_025_000274.png',\n",
       "       '/home/b2b/arthur/data/921_hard_images/images/ab_car_berlin_day_024_000290.png',\n",
       "       '/home/b2b/arthur/data/921_hard_images/images/1685998581199960.png',\n",
       "       '/home/b2b/arthur/data/921_hard_images/images/1685995962666391.png',\n",
       "       '/home/b2b/arthur/data/921_hard_images/images/ab_car_berlin_day_031_000570.png',\n",
       "       '/home/b2b/arthur/data/921_hard_images/images/1685739248000088.png',\n",
       "       '/home/b2b/arthur/data/921_hard_images/images/1684253826674675.png',\n",
       "       '/home/b2b/arthur/data/921_hard_images/images/1692610932999980.png',\n",
       "       '/home/b2b/arthur/data/921_hard_images/images/1662979398830182.png',\n",
       "       '/home/b2b/arthur/data/921_hard_images/images/1662976540958788.png',\n",
       "       '/home/b2b/arthur/data/921_hard_images/images/1684251596431607.png',\n",
       "       '/home/b2b/arthur/data/921_hard_images/images/1684257402192908.png',\n",
       "       '/home/b2b/arthur/data/921_hard_images/images/1685998953500236.png',\n",
       "       '/home/b2b/arthur/data/921_hard_images/images/1692611032999756.png',\n",
       "       '/home/b2b/arthur/data/921_hard_images/images/1692278135166766.png',\n",
       "       '/home/b2b/arthur/data/921_hard_images/images/1691520254999941.png',\n",
       "       '/home/b2b/arthur/data/921_hard_images/images/1684257415328867.png',\n",
       "       '/home/b2b/arthur/data/921_hard_images/images/1685995579333319.png',\n",
       "       '/home/b2b/arthur/data/921_hard_images/images/1692274576000036.png',\n",
       "       '/home/b2b/arthur/data/921_hard_images/images/1691508081433767.png',\n",
       "       '/home/b2b/arthur/data/921_hard_images/images/ab_car_munich_urban_day_024_001240.png',\n",
       "       '/home/b2b/arthur/data/921_hard_images/images/1685995239332982.png',\n",
       "       '/home/b2b/arthur/data/921_hard_images/images/1691678616000401.png',\n",
       "       '/home/b2b/arthur/data/921_hard_images/images/1686585823000227.png',\n",
       "       '/home/b2b/arthur/data/921_hard_images/images/1685738087999869.png',\n",
       "       '/home/b2b/arthur/data/921_hard_images/images/ab_car_munich_urban_day_021_001206.png',\n",
       "       '/home/b2b/arthur/data/921_hard_images/images/1686840091999992.png',\n",
       "       '/home/b2b/arthur/data/921_hard_images/images/1684255080045962.png',\n",
       "       '/home/b2b/arthur/data/921_hard_images/images/1687354182999684.png',\n",
       "       '/home/b2b/arthur/data/921_hard_images/images/1684257382192599.png',\n",
       "       '/home/b2b/arthur/data/921_hard_images/images/1691429322999558.png',\n",
       "       '/home/b2b/arthur/data/921_hard_images/images/1662979624566348.png',\n",
       "       '/home/b2b/arthur/data/921_hard_images/images/1685997516000009.png',\n",
       "       '/home/b2b/arthur/data/921_hard_images/images/1691506971433388.png',\n",
       "       '/home/b2b/arthur/data/921_hard_images/images/1691510061999857.png',\n",
       "       '/home/b2b/arthur/data/921_hard_images/images/1685738728000187.png',\n",
       "       '/home/b2b/arthur/data/921_hard_images/images/1688731045899903.png',\n",
       "       '/home/b2b/arthur/data/921_hard_images/images/1691508831433647.png',\n",
       "       '/home/b2b/arthur/data/921_hard_images/images/1684258912834809.png',\n",
       "       '/home/b2b/arthur/data/921_hard_images/images/1684257752075218.png',\n",
       "       '/home/b2b/arthur/data/921_hard_images/images/ab_car_berlin_day_032_001171.png',\n",
       "       '/home/b2b/arthur/data/921_hard_images/images/1691507201433757.png',\n",
       "       '/home/b2b/arthur/data/921_hard_images/images/1684257732075102.png'],\n",
       "      dtype='<U83')"
      ]
     },
     "execution_count": 4,
     "metadata": {},
     "output_type": "execute_result"
    }
   ],
   "source": [
    "samples = np.random.choice(images, size=100, replace=False)\n",
    "\n",
    "samples"
   ]
  },
  {
   "cell_type": "code",
   "execution_count": 5,
   "metadata": {},
   "outputs": [],
   "source": [
    "os.system(\"mkdir /home/b2b/arthur/data/100_hard_images/\")\n",
    "os.system(\"mkdir /home/b2b/arthur/data/100_hard_images/images\")\n",
    "\n",
    "\n",
    "for sample in samples:\n",
    "    os.system(f\"cp {sample} /home/b2b/arthur/data/100_hard_images/images/\")"
   ]
  },
  {
   "cell_type": "code",
   "execution_count": 6,
   "metadata": {},
   "outputs": [],
   "source": [
    "names = [os.path.basename(sample) for sample in samples]"
   ]
  },
  {
   "cell_type": "code",
   "execution_count": 7,
   "metadata": {},
   "outputs": [
    {
     "data": {
      "text/plain": [
       "['1684257376706149.png',\n",
       " '1684251616431673.png',\n",
       " '1662980400009322.png',\n",
       " '1686840491999847.png',\n",
       " '1686585233000292.png',\n",
       " '1685995909333208.png',\n",
       " '1684255132602908.png',\n",
       " '1684258959075690.png',\n",
       " 'ab_car_berlin_day_029_001273.png',\n",
       " '1690794755000136.png',\n",
       " '1691508491433297.png',\n",
       " 'ab_car_berlin_day_031_000771.png',\n",
       " '1685737058000146.png',\n",
       " '1684255086982820.png',\n",
       " '1692356650000103.png',\n",
       " '1691508161433421.png',\n",
       " '1662988206712186.png',\n",
       " '1685737228000237.png',\n",
       " '1685737957999810.png',\n",
       " '1684251979092865.png',\n",
       " '1662980348075343.png',\n",
       " '1691506002000000.png',\n",
       " '1691508211433499.png',\n",
       " '1685999073600227.png',\n",
       " '1685739198000164.png',\n",
       " '1691426572999684.png',\n",
       " 'ab_car_munich_urban_day_027_000098.png',\n",
       " '1691678606000431.png',\n",
       " '1685739318000144.png',\n",
       " '1689521652466807.png',\n",
       " '1692356160000097.png',\n",
       " '1684255705110732.png',\n",
       " 'ab_car_berlin_day_003_000199.png',\n",
       " '1684255413421954.png',\n",
       " '1686840781999746.png',\n",
       " '1685737248000161.png',\n",
       " '1684257400471047.png',\n",
       " '1691509801999817.png',\n",
       " '1685739518000239.png',\n",
       " '1684251941124932.png',\n",
       " '1685737037999869.png',\n",
       " '1687354122999965.png',\n",
       " 'ab_car_berlin_day_027_001671.png',\n",
       " '1685736827999845.png',\n",
       " '1691678896000206.png',\n",
       " '1685999367166926.png',\n",
       " '1662980064505155.png',\n",
       " '1686585523000387.png',\n",
       " '1691510892000044.png',\n",
       " 'ab_car_munich_urban_day_035_001650.png',\n",
       " '1662978855656624.png',\n",
       " '1686905461000215.png',\n",
       " '1689522003733609.png',\n",
       " '1691506951433466.png',\n",
       " '1685999085066865.png',\n",
       " '1685997389333355.png',\n",
       " '1692281115166789.png',\n",
       " 'ab_car_munich_urban_day_025_000274.png',\n",
       " 'ab_car_berlin_day_024_000290.png',\n",
       " '1685998581199960.png',\n",
       " '1685995962666391.png',\n",
       " 'ab_car_berlin_day_031_000570.png',\n",
       " '1685739248000088.png',\n",
       " '1684253826674675.png',\n",
       " '1692610932999980.png',\n",
       " '1662979398830182.png',\n",
       " '1662976540958788.png',\n",
       " '1684251596431607.png',\n",
       " '1684257402192908.png',\n",
       " '1685998953500236.png',\n",
       " '1692611032999756.png',\n",
       " '1692278135166766.png',\n",
       " '1691520254999941.png',\n",
       " '1684257415328867.png',\n",
       " '1685995579333319.png',\n",
       " '1692274576000036.png',\n",
       " '1691508081433767.png',\n",
       " 'ab_car_munich_urban_day_024_001240.png',\n",
       " '1685995239332982.png',\n",
       " '1691678616000401.png',\n",
       " '1686585823000227.png',\n",
       " '1685738087999869.png',\n",
       " 'ab_car_munich_urban_day_021_001206.png',\n",
       " '1686840091999992.png',\n",
       " '1684255080045962.png',\n",
       " '1687354182999684.png',\n",
       " '1684257382192599.png',\n",
       " '1691429322999558.png',\n",
       " '1662979624566348.png',\n",
       " '1685997516000009.png',\n",
       " '1691506971433388.png',\n",
       " '1691510061999857.png',\n",
       " '1685738728000187.png',\n",
       " '1688731045899903.png',\n",
       " '1691508831433647.png',\n",
       " '1684258912834809.png',\n",
       " '1684257752075218.png',\n",
       " 'ab_car_berlin_day_032_001171.png',\n",
       " '1691507201433757.png',\n",
       " '1684257732075102.png']"
      ]
     },
     "execution_count": 7,
     "metadata": {},
     "output_type": "execute_result"
    }
   ],
   "source": [
    "names"
   ]
  },
  {
   "cell_type": "code",
   "execution_count": 8,
   "metadata": {},
   "outputs": [],
   "source": [
    "gt = pd.read_csv(\"/home/b2b/arthur/data/921_hard_images/gt.tsv\", sep = '\\t')"
   ]
  },
  {
   "cell_type": "code",
   "execution_count": 9,
   "metadata": {},
   "outputs": [],
   "source": [
    "gt = gt[gt.name.isin(names)]"
   ]
  },
  {
   "cell_type": "code",
   "execution_count": 10,
   "metadata": {},
   "outputs": [],
   "source": [
    "gt.to_csv(\"/home/b2b/arthur/data/100_hard_images/gt.tsv\", sep = '\\t')"
   ]
  },
  {
   "cell_type": "code",
   "execution_count": 12,
   "metadata": {},
   "outputs": [
    {
     "data": {
      "text/plain": [
       "100"
      ]
     },
     "execution_count": 12,
     "metadata": {},
     "output_type": "execute_result"
    }
   ],
   "source": [
    "gt = pd.read_csv(\"/home/b2b/arthur/data/100_hard_images/gt.tsv\", sep = '\\t')\n",
    "len(gt.name.unique())"
   ]
  },
  {
   "cell_type": "code",
   "execution_count": null,
   "metadata": {},
   "outputs": [],
   "source": []
  }
 ],
 "metadata": {
  "kernelspec": {
   "display_name": "od_arthur",
   "language": "python",
   "name": "python3"
  },
  "language_info": {
   "codemirror_mode": {
    "name": "ipython",
    "version": 3
   },
   "file_extension": ".py",
   "mimetype": "text/x-python",
   "name": "python",
   "nbconvert_exporter": "python",
   "pygments_lexer": "ipython3",
   "version": "3.10.14"
  }
 },
 "nbformat": 4,
 "nbformat_minor": 2
}
